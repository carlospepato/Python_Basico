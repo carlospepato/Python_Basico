{
  "nbformat": 4,
  "nbformat_minor": 0,
  "metadata": {
    "colab": {
      "provenance": [],
      "mount_file_id": "1PdAVtnZggeYKrWkjcFx2LNGY6LKEFwrw",
      "authorship_tag": "ABX9TyOeEK+D89km6eXJK9dFluJC"
    },
    "kernelspec": {
      "name": "python3",
      "display_name": "Python 3"
    },
    "language_info": {
      "name": "python"
    }
  },
  "cells": [
    {
      "cell_type": "code",
      "source": [
        "from google.colab import drive\n",
        "drive.mount('/content/drive')"
      ],
      "metadata": {
        "colab": {
          "base_uri": "https://localhost:8080/"
        },
        "id": "8McB1MnOdKCh",
        "outputId": "d17c6780-3de9-44ca-ccdc-d64f1104c967"
      },
      "execution_count": null,
      "outputs": [
        {
          "output_type": "stream",
          "name": "stdout",
          "text": [
            "Mounted at /content/drive\n"
          ]
        }
      ]
    },
    {
      "cell_type": "markdown",
      "source": [
        "# Importando bibliotecas"
      ],
      "metadata": {
        "id": "rlCLeY8T-UgD"
      }
    },
    {
      "cell_type": "code",
      "execution_count": null,
      "metadata": {
        "id": "yyNkTn7CQGPL"
      },
      "outputs": [],
      "source": [
        "import pandas as pd\n",
        "import numpy as np"
      ]
    },
    {
      "cell_type": "markdown",
      "source": [
        "# Criando as Funções"
      ],
      "metadata": {
        "id": "TF1XDpky-dkO"
      }
    },
    {
      "cell_type": "code",
      "source": [
        "#trazendo os itens listados um por um\n",
        "def listando_itens():\n",
        "    \n",
        "    nome_item1 = 0\n",
        "    nome_item2 = 0\n",
        "    i = 0\n",
        "\n",
        "    for item in bom[\"Item\"]:\n",
        "        nome_item1 = item\n",
        "\n",
        "        if bom.loc[i, \"Category\"] == \"Made-To-Spec\":\n",
        "            nome_item2 = nome_item1\n",
        "            i += 1\n",
        "        else:\n",
        "            bom.loc[i, \"Item\"] = nome_item2\n",
        "            i += 1\n",
        "\n",
        "#trazendo o PN do cliente, de acordo com os itens.\n",
        "def listando_pn_cliente():\n",
        "    \n",
        "    pn1 = 0\n",
        "    pn2 = 0\n",
        "    i = 0\n",
        "    \n",
        "    for item in bom[\"Material\"]:\n",
        "        pn1 = item\n",
        "\n",
        "        if bom.loc[i, \"Category\"] == \"Made-To-Spec\":\n",
        "            pn2 = pn1\n",
        "            i += 1\n",
        "        else:\n",
        "            bom.loc[i, \"Material\"] = pn2\n",
        "            i += 1\n",
        "            \n",
        "#trazendo a descrição dos itens, de acordo com o item.\n",
        "def listando_descricao():\n",
        "    \n",
        "    descricao1 = 0\n",
        "    descricao2 = 0\n",
        "    i = 0\n",
        "    \n",
        "    for item in bom[\"Description\"]:\n",
        "        descricao1 = item\n",
        "\n",
        "        if bom.loc[i, \"Category\"] == \"Made-To-Spec\":\n",
        "            descricao2 = descricao1\n",
        "            i += 1\n",
        "        else:\n",
        "            bom.loc[i, \"Description\"] = descricao2\n",
        "            i += 1\n",
        "            \n",
        "#trazendo a quantidade dos itens, de acordo com o item.\n",
        "def listando_quantidade():\n",
        "    \n",
        "    quantidade1 = 0\n",
        "    quantidade2 = 0\n",
        "    i = 0\n",
        "    palavras = []\n",
        "    for item in bom[\"Quantity\"]:\n",
        "        quantidade1 = item \n",
        "        if bom.loc[i, \"Category\"] == \"Made-To-Spec\":\n",
        "            if bom.loc[i, \"Description\"].count(\"PCB\") > 0:\n",
        "                frase = str(bom.loc[i,\"Description\"])\n",
        "                frase_separada= frase.split(\",\")\n",
        "                quantidade2 = quantidade1\n",
        "                if frase_separada[0] == \"PCB\" or frase_separada[0] == \"PCBA\":\n",
        "                    i += 1\n",
        "                else:\n",
        "                    bom.loc[i, \"Quantity\"] = \"\"\n",
        "                    i += 1\n",
        "            else:\n",
        "                bom.loc[i, \"Quantity\"] = \"\"\n",
        "                quantidade2 = quantidade1\n",
        "                i += 1\n",
        "        else:\n",
        "            bom.loc[i, \"Quantity\"] = quantidade2\n",
        "            i += 1\n",
        "            \n",
        "#trazendo os fabricantes dos itens, de acordo com o item.\n",
        "def listando_fabricante():\n",
        "    \n",
        "    fabricante1 = 0\n",
        "    fabricante2 = 0\n",
        "    zero = \"\"\n",
        "    i = 0\n",
        "    \n",
        "    for item in bom[\"Manufacturer Name\"]:\n",
        "        fabricante1 = item\n",
        "\n",
        "        if bom.loc[i, \"Category\"] == \"Off-The-Shelf\":\n",
        "            fabricante2 = fabricante1\n",
        "            i += 1\n",
        "        elif bom.loc[i, \"Category\"] == \"Made-To-Spec\":\n",
        "            bom.loc[i,\"Manufacturer Name\"] = zero\n",
        "            i += 1\n",
        "        else:\n",
        "            bom.loc[i, \"Manufacturer Name\"] = fabricante2\n",
        "            i += 1\n",
        "\n",
        "#trazendo os PN dos fabricantes dos itens, de acordo com o item.\n",
        "def listando_pn_fabricante():\n",
        "    \n",
        "    pn_fabricante1 = 0\n",
        "    pn_fabricante2 = 0\n",
        "    zero = \"\"\n",
        "    i = 0\n",
        "    \n",
        "    for item in bom[\"MPN\"]:\n",
        "        pn_fabricante1 = item\n",
        "\n",
        "        if bom.loc[i, \"Category\"] == \"Off-The-Shelf\":\n",
        "            pn_fabricante2 = pn_fabricante1\n",
        "            i += 1\n",
        "        elif bom.loc[i, \"Category\"] == \"Made-To-Spec\":\n",
        "            bom.loc[i,\"MPN\"] = zero\n",
        "            i += 1\n",
        "        else:\n",
        "            bom.loc[i, \"MPN\"] = pn_fabricante2\n",
        "            i += 1"
      ],
      "metadata": {
        "id": "F4k3FB88Qb1p"
      },
      "execution_count": null,
      "outputs": []
    },
    {
      "cell_type": "markdown",
      "source": [
        "# Coletando informações do aquivo"
      ],
      "metadata": {
        "id": "mijHcyd0-sEV"
      }
    },
    {
      "cell_type": "code",
      "source": [
        "nome_arquivo = input(\"Digite aqui o nome exato do arquivo + .xlsx:\")\n",
        "\n",
        "tem_guia = str(input(\"Tem aba expecífica?'[s/n]'\")).lower()\n",
        "\n",
        "guias = []\n",
        "\n",
        "if tem_guia == 's':\n",
        "    nome_guia = str(input('Qual o nome da aba? 999 para stop '))\n",
        "    guias.append(nome_guia)\n",
        "    while nome_guia != '999':\n",
        "        nome_guia = str(input('Qual o nome da aba? 999 para stop '))\n",
        "        guias.append(nome_guia)\n",
        "else: \n",
        "    nome_guia = 'Sheet1'\n",
        "    guias.append(nome_guia)\n",
        "    \n",
        "guias_utilizadas = guias[:-1]"
      ],
      "metadata": {
        "id": "0hM3h94N-np9"
      },
      "execution_count": null,
      "outputs": []
    },
    {
      "cell_type": "markdown",
      "source": [
        "# Consolidando os dados"
      ],
      "metadata": {
        "id": "BFGTOvxy-5RM"
      }
    },
    {
      "cell_type": "code",
      "source": [
        "bom_final = []\n",
        "nome_guias = []\n",
        "nome_final_arquivo = str(input('Qual o nome que deseja colocar no arquivo criado? '))\n",
        "for guia in guias_utilizadas:\n",
        "    bom = pd.read_excel(nome_arquivo, sheet_name= guia, header=8, usecols=\"B, D, E, I, L, U, W\")\n",
        "    bom['Category'] = bom['Category'].replace(\"DIR\", np.nan)\n",
        "    bom['Category'] = bom['Category'].replace(\"H_DIR\",np.nan)\n",
        "    listando_itens()\n",
        "    listando_pn_cliente()\n",
        "    listando_descricao()\n",
        "    listando_quantidade()\n",
        "    listando_fabricante()\n",
        "    listando_pn_fabricante()\n",
        "    bom_final.append(bom)\n",
        "    nome_guias.append(guia)"
      ],
      "metadata": {
        "id": "eULly_H6-30w"
      },
      "execution_count": null,
      "outputs": []
    },
    {
      "cell_type": "markdown",
      "source": [
        "# Gerando o novo arquivo"
      ],
      "metadata": {
        "id": "V2aEHI0N-_pc"
      }
    },
    {
      "cell_type": "code",
      "source": [
        "with pd.ExcelWriter(nome_final_arquivo+\".xlsx\") as writer:\n",
        "        for i in range(len(bom_final)):\n",
        "            bom_final[i] = pd.DataFrame(bom_final[i]).dropna()\n",
        "            bom_final[i].to_excel(writer, sheet_name = nome_guias[i])"
      ],
      "metadata": {
        "id": "krL_5Y20_CU2"
      },
      "execution_count": null,
      "outputs": []
    }
  ]
}